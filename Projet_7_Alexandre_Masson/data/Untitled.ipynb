{
 "cells": [
  {
   "cell_type": "code",
   "execution_count": 1,
   "id": "235b98f0",
   "metadata": {},
   "outputs": [],
   "source": [
    "import pandas as pd"
   ]
  },
  {
   "cell_type": "code",
   "execution_count": 2,
   "id": "e6bd2098",
   "metadata": {},
   "outputs": [],
   "source": [
    "df = pd.read_csv('preprocessing_test.csv')"
   ]
  },
  {
   "cell_type": "code",
   "execution_count": 14,
   "id": "1d9c8933",
   "metadata": {},
   "outputs": [],
   "source": [
    "df[0:1].to_csv('client1.csv',index=False)\n",
    "df[1:2].to_csv('client2.csv',index=False)\n",
    "df[2:3].to_csv('client3.csv',index=False)\n",
    "df[3:4].to_csv('client4.csv',index=False)\n",
    "df[4:5].to_csv('client5.csv',index=False)"
   ]
  }
 ],
 "metadata": {
  "kernelspec": {
   "display_name": "Python 3 (ipykernel)",
   "language": "python",
   "name": "python3"
  },
  "language_info": {
   "codemirror_mode": {
    "name": "ipython",
    "version": 3
   },
   "file_extension": ".py",
   "mimetype": "text/x-python",
   "name": "python",
   "nbconvert_exporter": "python",
   "pygments_lexer": "ipython3",
   "version": "3.8.10"
  }
 },
 "nbformat": 4,
 "nbformat_minor": 5
}
